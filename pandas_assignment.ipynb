{
 "cells": [
  {
   "cell_type": "code",
   "execution_count": 8,
   "id": "3e849631",
   "metadata": {},
   "outputs": [],
   "source": [
    "#Handling Missing Data"
   ]
  },
  {
   "cell_type": "code",
   "execution_count": 1,
   "id": "af2632d3",
   "metadata": {},
   "outputs": [],
   "source": [
    "import pandas as pd\n",
    "import numpy as np"
   ]
  },
  {
   "cell_type": "code",
   "execution_count": 2,
   "id": "29884b84",
   "metadata": {},
   "outputs": [
    {
     "name": "stdout",
     "output_type": "stream",
     "text": [
      "Original DataFrame:\n",
      "     Name   Age  Score\n",
      "0  Alice  25.0   85.0\n",
      "1    Bob   NaN   90.0\n",
      "2   None  22.0    NaN\n",
      "3  David  28.0   88.0\n"
     ]
    }
   ],
   "source": [
    "data = {\n",
    "    'Name': ['Alice', 'Bob', None, 'David'],\n",
    "    'Age': [25, np.nan, 22, 28],\n",
    "    'Score': [85, 90, np.nan, 88]\n",
    "}\n",
    "df = pd.DataFrame(data)\n",
    "print(\"Original DataFrame:\\n\", df)"
   ]
  },
  {
   "cell_type": "code",
   "execution_count": null,
   "id": "45f92311",
   "metadata": {},
   "outputs": [
    {
     "name": "stdout",
     "output_type": "stream",
     "text": [
      "\n",
      "Missing values (isnull):\n",
      "     Name    Age  Score\n",
      "0  False  False  False\n",
      "1  False   True  False\n",
      "2   True  False   True\n",
      "3  False  False  False\n",
      "\n",
      "Non-missing values (notnull):\n",
      "     Name    Age  Score\n",
      "0   True   True   True\n",
      "1   True  False   True\n",
      "2  False   True  False\n",
      "3   True   True   True\n"
     ]
    }
   ],
   "source": [
    "print(\"\\nMissing values (isnull):\\n\", df.isnull())\n",
    "print(\"\\nNon-missing values (notnull):\\n\", df.notnull())"
   ]
  },
  {
   "cell_type": "code",
   "execution_count": 4,
   "id": "ec911466",
   "metadata": {},
   "outputs": [
    {
     "name": "stdout",
     "output_type": "stream",
     "text": [
      "\n",
      "DataFrame after dropping rows with missing values:\n",
      "     Name   Age  Score\n",
      "0  Alice  25.0   85.0\n",
      "3  David  28.0   88.0\n"
     ]
    }
   ],
   "source": [
    "df_dropped = df.dropna()\n",
    "print(\"\\nDataFrame after dropping rows with missing values:\\n\", df_dropped)"
   ]
  },
  {
   "cell_type": "code",
   "execution_count": 5,
   "id": "e3fa59f0",
   "metadata": {},
   "outputs": [],
   "source": [
    "df['City'] = ['New York', None, 'London', None]"
   ]
  },
  {
   "cell_type": "code",
   "execution_count": null,
   "id": "fe934c01",
   "metadata": {},
   "outputs": [],
   "source": [
    "df['Age'] = df['Age'].fillna(df['Age'].mean())\n",
    "df['Score'] = df['Score'].fillna(df['Score'].mean())"
   ]
  },
  {
   "cell_type": "code",
   "execution_count": 7,
   "id": "b112b4f9",
   "metadata": {},
   "outputs": [
    {
     "name": "stdout",
     "output_type": "stream",
     "text": [
      "\n",
      "DataFrame after filling missing values:\n",
      "     Name   Age      Score      City\n",
      "0  Alice  25.0  85.000000  New York\n",
      "1    Bob  25.0  90.000000   Unknown\n",
      "2   None  22.0  87.666667    London\n",
      "3  David  28.0  88.000000   Unknown\n"
     ]
    }
   ],
   "source": [
    "df['City'] = df['City'].fillna('Unknown')\n",
    "print(\"\\nDataFrame after filling missing values:\\n\", df)"
   ]
  }
 ],
 "metadata": {
  "kernelspec": {
   "display_name": "Python 3",
   "language": "python",
   "name": "python3"
  },
  "language_info": {
   "codemirror_mode": {
    "name": "ipython",
    "version": 3
   },
   "file_extension": ".py",
   "mimetype": "text/x-python",
   "name": "python",
   "nbconvert_exporter": "python",
   "pygments_lexer": "ipython3",
   "version": "3.10.11"
  }
 },
 "nbformat": 4,
 "nbformat_minor": 5
}
